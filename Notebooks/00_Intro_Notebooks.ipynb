{
 "cells": [
  {
   "cell_type": "markdown",
   "metadata": {},
   "source": [
    "# Intro for Jupyter Notebooks\n",
    "\n",
    "The Jupyter Notebook, sometimes also called a Python Notebook, is a great way to create reports or documents where you mix bits of code with documenting text explainging the code. A Jupyter Notebook is easy to start up from the Anaconda Navigator (just click on Jupyter Notebook), or from the command line with \"jupyter-notebook\" or \"jupyter notebook\".\n",
    "\n",
    "[Here is a good intro to Notebooks.](https://nbviewer.jupyter.org/github/jupyter/notebook/blob/master/docs/source/examples/Notebook/Notebook%20Basics.ipynb)\n",
    "\n",
    "You can find detailed online documentation on the Jupyter Notebook on line: [Jupyter Notebook Documentation](https://jupyter-notebook.readthedocs.io/en/stable/notebook.html).\n",
    "\n",
    "If you don't have a computer that is capable of running notebooks, or you choose not to install the required software, you can run notebooks with Google Collab for free. Go to [colab.research.google.com/](https://colab.research.google.com/) to get started.\n",
    "You can immediately run a notebook available on github by appending its github path to \"https://colab.research.google.com/github/\". For example, you can run a copy of this notebook (located at https://github.com/mholtrop/Phys601/blob/master/Notebooks/00_Intro_Notebooks.ipynb) by typing the address\n",
    "\"https://colab.research.google.com/github/mholtrop/Phys601/blob/master/Notebooks/00_Intro_Notebooks.ipynb\" in your browser. To save changes to the notebook, you will need to save a copy of the notebook on Google Drive."
   ]
  },
  {
   "cell_type": "markdown",
   "metadata": {},
   "source": [
    "The notebook interface shows up in your browser. You start with a \"home\" tab, where you can see all the files in the directory where the notebook was started: either your Documents directory, or the directory where you typed the command to start the notebook. From there you can navigate to other directories and upon up a notebook by clicking on it.\n",
    "\n",
    "## About cells.\n",
    "The notebook consists of cells. Each cell is either \"Markdown\", which is a way of writing formatted text, or it is \"code\", which is for Python code. You render the text, or execute the code, by typeping shift-enter. When you do that, the Markdown will get typeset, and the Python code will be executed. Below each code cell you will get the output produced by that bit of code. Each code cell will acumulate, as if they were part of a single Python program.\n",
    "\n",
    "An simple example of a bit of Python code is shown here:"
   ]
  },
  {
   "cell_type": "code",
   "execution_count": 1,
   "metadata": {},
   "outputs": [
    {
     "name": "stdout",
     "output_type": "stream",
     "text": [
      "Hello Phys601 students.\n",
      "The sum 1234*9876+100 = 12187084\n"
     ]
    }
   ],
   "source": [
    "print(\"Hello Phys601 students.\")\n",
    "print(\"The sum 1234*9876+100 =\",1234*9876+100) "
   ]
  },
  {
   "cell_type": "markdown",
   "metadata": {},
   "source": [
    "Each time you do shift-enter, the notebook will evaluate the cell, show the output, and move one cell down. If it was already at the end of the document, it will create a new cell. \n",
    "\n",
    "At the top of the page is a menu bar where you can choose what type of cell you want. There are also buttons to cut the cell (and delete it), copy it, or create a new cell below the current one. There are a number of useful commands in the drop down menus as well. You can explore these on your own, or go to the full [Jupyter Notebook Documentation](https://jupyter-notebook.readthedocs.io/en/stable/notebook.html)"
   ]
  },
  {
   "cell_type": "markdown",
   "metadata": {},
   "source": [
    "## Text entry\n",
    "To learn more about the documenting text cells, read the [Markdown cheat sheet](https://github.com/adam-p/markdown-here/wiki/Markdown-Cheatsheet), or [Mastering Markdown](https://guides.github.com/features/mastering-markdown/) or the [Jupyter notebook specific section](https://jupyter-notebook.readthedocs.io/en/stable/examples/Notebook/Working%20With%20Markdown%20Cells.html?highlight=Latex)\n",
    "\n",
    "What is very nice for scientists, is that the text cells also allow formulas to be entered using LaTex. You enclose an inline latex formula with dollar symbols, and a display formula (on a line of its own) with two dollar symbols.\n",
    "\n",
    "Here are some famous formulas from physics:\n",
    "\n",
    "1. Newtons Equation:\n",
    "$$F = ma $$\n",
    "2. Einstein's General Relativity Field equation:\n",
    "$$G_{\\mu\\nu}\\equiv R_{\\mu\\nu} - {\\textstyle 1 \\over 2}R\\,g_{\\mu\\nu} = {8 \\pi G \\over c^4} T_{\\mu\\nu} $$\n",
    "3. Schr&ouml;dinger's Equation:\n",
    "$$-\\frac{\\hbar^2}{2m}\\frac{d^2}{d x^2} \\psi(x) + V(x)\\psi(x) = E\\psi(x)$$\n",
    "\n",
    "Hopefully this gives you an idea. Full LaTex is very powerful, and quite difficult to learn. If you plan to write a thesis, or a physics paper, then it would be well worth your time to learn it, but that is outside of the scope of this course."
   ]
  },
  {
   "cell_type": "markdown",
   "metadata": {},
   "source": [
    "## Inline graphics\n",
    "A number of plotting packages and 3D rendering packages will produce picures \"inline\". We will use this especially when plotting graphs, but that will be covered in a separate notebook.\n",
    "\n",
    "## Printing and convering notebooks\n",
    "If everything is installed correctly, you can convert your notebook to different file formats by simlply choosing \"Download as\" from the \"File\" menu of the **notebook menu bar**. So not the \"File\" menu from the browser!! If you plan to submit the results, it is probably best to select \"PDF via Latex\". You should get a nicely formatted document in your downloads folder, which can then be printed, if need be."
   ]
  },
  {
   "cell_type": "markdown",
   "metadata": {},
   "source": [
    "## Interrupting a calculation, stopping and restarting the kernel\n",
    "The \"kernel\" is the part of the notebook that is doing the actual calculations. If you give it a Python command that never ends, say:\n",
    "\n",
    "\n",
    "```Python\n",
    "   while True:\n",
    "   print(\".\",end=\"\")\n",
    "```\n",
    "\n",
    "You will no longer be able to communicate with the kernel, which will be really busy printing dots to the screen, and never stop.\n",
    "To interrupt this process, you can click on the square box in the menu bar, or choose \"Interrupt\" from the kernel dropdown menu.\n",
    "The kernel dropdown menu also allows you to restart the kernel. When you do that, all previous calculations are forgotten and you\n",
    "get a clean slate. This can be useful if you made a mistake that got Python in a confusing state. Just reset, and then re-evaluate your cells."
   ]
  },
  {
   "cell_type": "code",
   "execution_count": null,
   "metadata": {
    "collapsed": true,
    "scrolled": false,
    "pycharm": {
     "is_executing": true
    }
   },
   "outputs": [],
   "source": [
    "while True:\n",
    "       print(\".\",end=\"\")"
   ]
  },
  {
   "cell_type": "markdown",
   "source": [
    "# Use a Notebook for some quick computations\n",
    "You can use Python or a Python Notebook for some quick computations instead of using your calculator. The advantage of using a Notebook is that\n",
    "you can save the file and then see your calculation again later, or continue working on them. Another advantage is that it is much easier to\n",
    "edit the computation.  Some disadvantages are that you have to use a computer, which is bigger than a phone or calculator, and that you need\n",
    "to type all the math functions instead of pushing a button.\n",
    "\n",
    "I very often use Python for calculations if what I need to compute is just slightly more complicated than very simple things. You may want\n",
    "to try it for yourself. Give it a serious try!\n",
    "\n",
    "Here is an example:\n",
    "An electron (mass = 0.511 MeV/c^2) is accelerated by a 250 keV accelerator. What is the relativistic speed of the electron?\n",
    "\n",
    "We first do the calculation without making use of the units module. To get functions like square root, or sine and\n",
    "cosine, we do need to get either the math module or the Numpy module. Here we import math.\n"
   ],
   "metadata": {
    "collapsed": false
   }
  },
  {
   "cell_type": "code",
   "execution_count": 5,
   "outputs": [
    {
     "name": "stdout",
     "output_type": "stream",
     "text": [
      "The speed is  0.741 c.\n"
     ]
    }
   ],
   "source": [
    "import math as m\n",
    "M_electron = 0.511e6            # Electron mass in eV/c^2\n",
    "K_electron = 250e3              # Kinetic energy of electron in eV\n",
    "E_tot = M_electron + K_electron # Total energy of electron, in eV\n",
    "gamma = E_tot/M_electron            # Gamma factor\n",
    "speed = m.sqrt(gamma**2 - 1)/ gamma\n",
    "print(f\"The speed is {speed:6.3f} c.\")"
   ],
   "metadata": {
    "collapsed": false
   }
  },
  {
   "cell_type": "markdown",
   "source": [
    "Now let us do this calculation again, but this time using the Pint units module. This module allows us to convert\n",
    "to different units very easily, and it also checks to make sure that the calculation has the units correct everywhere.\n",
    "\n",
    "The Pint module may not have come pre-installed with your conda setup. To install it use either\n",
    "`conda install -c conda-forge pint` or `pip install pint`"
   ],
   "metadata": {
    "collapsed": false
   }
  },
  {
   "cell_type": "code",
   "execution_count": 9,
   "outputs": [
    {
     "name": "stdout",
     "output_type": "stream",
     "text": [
      "The speed is 0.741 c or 2.222e+05 km / s or 4.969e+08 mi / h\n"
     ]
    }
   ],
   "source": [
    "import pint\n",
    "u = pint.UnitRegistry()   # Initialize the Pint unit registry.\n",
    "M_electron = 0.511*u.MeV/u.c**2\n",
    "K_electron = 250*u.keV\n",
    "E_tot = K_electron + M_electron*u.c**2\n",
    "gamma = E_tot/(M_electron*u.c**2)\n",
    "speed = u.c*m.sqrt(gamma**2 - 1)/ gamma\n",
    "# Note below that we have to ask explicitly what units we want in the answer with the .to('unit') method.\n",
    "print(f\"The speed is {speed.to('c'):~6.3f} or {speed.to('km/s'):~9.3e} or {speed.to('miles/h'):~9.3e}\")"
   ],
   "metadata": {
    "collapsed": false
   }
  },
  {
   "cell_type": "code",
   "execution_count": null,
   "outputs": [],
   "source": [],
   "metadata": {
    "collapsed": false
   }
  }
 ],
 "metadata": {
  "kernelspec": {
   "display_name": "Python 3",
   "language": "python",
   "name": "python3"
  },
  "language_info": {
   "codemirror_mode": {
    "name": "ipython",
    "version": 3
   },
   "file_extension": ".py",
   "mimetype": "text/x-python",
   "name": "python",
   "nbconvert_exporter": "python",
   "pygments_lexer": "ipython3",
   "version": "3.6.3"
  }
 },
 "nbformat": 4,
 "nbformat_minor": 2
}
