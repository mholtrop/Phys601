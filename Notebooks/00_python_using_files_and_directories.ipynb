{
 "cells": [
  {
   "cell_type": "markdown",
   "metadata": {},
   "source": [
    "# Using File and Directories in Pyhton\n",
    "\n",
    "Python has very powerful tools to deal with your operating system's filesystem. These tools can be very useful when you need to do complex filesystem operations, but also when you simply want your code to be more robust when handeling files.\n",
    "\n",
    "You can find more detailed information in the Python documentation: https://docs.python.org/3/library/filesys.html\n",
    "A nice article on the use of these tools is here: https://realpython.com/working-with-files-in-python/\n",
    "\n",
    "Most of the items that you need are in the \"os\" package that is a standard part of Python. If you are using Python version 3.6 or newer, there is also a package called \"pathlib\". "
   ]
  },
  {
   "cell_type": "code",
   "execution_count": 63,
   "metadata": {},
   "outputs": [],
   "source": [
    "import os"
   ]
  },
  {
   "cell_type": "markdown",
   "metadata": {},
   "source": [
    "## Using some of the os features.\n",
    "\n",
    "First, let us see which directory your Python script, or notebook in this case, is running in with `os.getcwd()`, then make a directory listing of some of these files in one of the sub-directories with `os.listdir()`. If you are on Python 3.5 or later, you can also use `os.scandir()`, which works similarly, but does not return a list, instead it returns an itterator."
   ]
  },
  {
   "cell_type": "code",
   "execution_count": 64,
   "metadata": {},
   "outputs": [
    {
     "name": "stdout",
     "output_type": "stream",
     "text": [
      "/Users/maurik/Library/CloudStorage/OneDrive-USNH/Phys601/Repo/Notebooks\n",
      "Using os.listdir()\n",
      "wave_packet_exercise.ipynb\n",
      "Coins_puzzle.ipynb\n",
      "Ellipse.ipynb\n",
      "\n",
      "Using os.scandir()\n",
      "wave_packet_exercise.ipynb  - is a file \n",
      "Coins_puzzle.ipynb  - is a file \n",
      "Ellipse.ipynb  - is a file \n"
     ]
    }
   ],
   "source": [
    "print(os.getcwd())\n",
    "# Without an arguement, os.listdir() shows all files and dirctories in the current dir.\n",
    "files = os.listdir(\"Extra\") \n",
    "print(\"Using os.listdir()\")\n",
    "for f in files:\n",
    "    print(f)\n",
    "\n",
    "print(\"\")\n",
    "print(\"Using os.scandir()\")\n",
    "for f in os.scandir(\"Extra\"):\n",
    "    print(f.name, \" - is a file \" if f.is_file() else \"- is a dir\"  )\n",
    "# Note that os.scandir returns itterable generator, and each next() returns an object, that contains \n",
    "# more information than just the file or directory name. "
   ]
  },
  {
   "cell_type": "markdown",
   "metadata": {},
   "source": [
    "## Extracting more information\n",
    "\n",
    "The submodule os.path has a number of useful functions to extract more information from the filename. Note that you have to make sure that you pass a correct path to these functions.\n",
    "\n",
    "Examples are `os.path.realpath()`,  which returns the full pathname of a file or directory, and `os.path.isfile()` and `os.path.isdir()` and `os.path.islink()` which identify what type of entry it is.\n",
    "\n",
    "Also useful is `os.path.join()` to correctly combine paths and filenames, and `os.path.basename()` which extracts the filename from a full directory + filename string, and `os.path.dirname()` that gives the full directory."
   ]
  },
  {
   "cell_type": "code",
   "execution_count": 65,
   "metadata": {},
   "outputs": [
    {
     "name": "stdout",
     "output_type": "stream",
     "text": [
      "Full path: /Users/maurik/Library/CloudStorage/OneDrive-USNH/Phys601/Repo/Notebooks/Extra/wave_packet_exercise.ipynb\n",
      "File name only: wave_packet_exercise.ipynb\n",
      "Directory: /Users/maurik/Library/CloudStorage/OneDrive-USNH/Phys601/Repo/Notebooks/Extra\n",
      "Relative path: Extra/wave_packet_exercise.ipynb\n",
      "Does this file exist? : True\n"
     ]
    }
   ],
   "source": [
    "full_dir_with_file = os.path.realpath(os.path.join(\"Extra\", files[0]))\n",
    "print(f\"Full path: {full_dir_with_file}\")\n",
    "print(f\"File name only: {os.path.basename(full_dir_with_file)}\")\n",
    "print(f\"Directory: {os.path.dirname(full_dir_with_file)}\")\n",
    "print(f\"Relative path: {os.path.relpath(full_dir_with_file)}\")\n",
    "print(f\"Does this file exist? : {os.path.exists(full_dir_with_file)}\")"
   ]
  },
  {
   "cell_type": "markdown",
   "metadata": {},
   "source": [
    "### Advanced use os.walk() or os.\n",
    "\n",
    "Sometimes, you want to search the file systems for something. You could do this with os.listdir() and then check for the directories and recurse (i.e. call your function from your function), but that is a lot of coding. Instead, you can use `os.walk()`, which also returns an itterable generator.\n",
    "\n",
    "The items returns from os.walk() will be a list with 3 entries. The 0 entry will be the current directory, the 1 entry a list of sub-directories, and the 2 entry a list of files in the current directory.\n",
    "\n",
    "Let us create a bit of code that finds all the files called \"README.md\" in the current directory and all those below, and displays their full path."
   ]
  },
  {
   "cell_type": "code",
   "execution_count": 66,
   "metadata": {},
   "outputs": [
    {
     "name": "stdout",
     "output_type": "stream",
     "text": [
      "Found: /Users/maurik/Library/CloudStorage/OneDrive-USNH/Phys601/Repo/Notebooks/README.md\n",
      "Found: /Users/maurik/Library/CloudStorage/OneDrive-USNH/Phys601/Repo/Notebooks/Symbolic-computation-Python-master/README.md\n"
     ]
    }
   ],
   "source": [
    "for curdir, subdirs, files in os.walk(\".\"):\n",
    "    if \"README.md\" in files:\n",
    "        full_path = os.path.realpath(os.path.join(curdir,\"README.md\"))\n",
    "        print(f\"Found: {full_path}\")"
   ]
  },
  {
   "cell_type": "markdown",
   "metadata": {},
   "source": [
    "More flexible filename matching can be accomplished with the fnmatch package. There are two useful functions here `fnmatch.fnmatch()` and `fnmatch.filter()`. Let's use those to list all the \"*.md\" files, instead of only the \"README.md\" files."
   ]
  },
  {
   "cell_type": "code",
   "execution_count": 67,
   "metadata": {},
   "outputs": [
    {
     "name": "stdout",
     "output_type": "stream",
     "text": [
      "Found: /Users/maurik/Library/CloudStorage/OneDrive-USNH/Phys601/Repo/Notebooks/README.md\n",
      "Found: /Users/maurik/Library/CloudStorage/OneDrive-USNH/Phys601/Repo/Notebooks/Symbolic-computation-Python-master/README.md\n"
     ]
    }
   ],
   "source": [
    "import fnmatch\n",
    "for curdir, subdirs, files in os.walk(\".\"):\n",
    "    for f in files:\n",
    "        if fnmatch.fnmatch(f, \"*.md\"):\n",
    "            full_path = os.path.realpath(os.path.join(curdir,f))\n",
    "            print(f\"Found: {full_path}\")"
   ]
  },
  {
   "cell_type": "code",
   "execution_count": 68,
   "metadata": {},
   "outputs": [
    {
     "name": "stdout",
     "output_type": "stream",
     "text": [
      "Found: /Users/maurik/Library/CloudStorage/OneDrive-USNH/Phys601/Repo/Notebooks/README.md\n",
      "Found: /Users/maurik/Library/CloudStorage/OneDrive-USNH/Phys601/Repo/Notebooks/Symbolic-computation-Python-master/README.md\n"
     ]
    }
   ],
   "source": [
    "import fnmatch\n",
    "for curdir, subdirs, files in os.walk(\".\"):\n",
    "    match_files = fnmatch.filter(files, \"*.md\")\n",
    "    for f in match_files:\n",
    "        full_path = os.path.realpath(os.path.join(curdir,f))\n",
    "        print(f\"Found: {full_path}\")"
   ]
  },
  {
   "cell_type": "code",
   "execution_count": null,
   "metadata": {},
   "outputs": [],
   "source": []
  }
 ],
 "metadata": {
  "kernelspec": {
   "display_name": "Python 3",
   "language": "python",
   "name": "python3"
  },
  "language_info": {
   "codemirror_mode": {
    "name": "ipython",
    "version": 3
   },
   "file_extension": ".py",
   "mimetype": "text/x-python",
   "name": "python",
   "nbconvert_exporter": "python",
   "pygments_lexer": "ipython3",
   "version": "3.8.8"
  }
 },
 "nbformat": 4,
 "nbformat_minor": 4
}
