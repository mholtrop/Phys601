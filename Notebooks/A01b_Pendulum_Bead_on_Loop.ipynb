{
 "cells": [
  {
   "cell_type": "code",
   "execution_count": 1,
   "id": "84a0fde7-a997-499d-b48f-e9f07d618e8d",
   "metadata": {
    "tags": []
   },
   "outputs": [],
   "source": [
    "import numpy as np\n",
    "import matplotlib.pyplot as plt\n",
    "import scipy.interpolate as interpolate\n",
    "import scipy.integrate as integrate\n",
    "import plotly.express as px\n",
    "import plotly.graph_objects as go\n",
    "from plotly.subplots import make_subplots\n",
    "import plotly.io as pio\n",
    "\n",
    "pio.templates.default=\"plotly_white\"\n",
    "# Uncomment the following line if plots do not show up in your notebook.\n",
    "pio.renderers.default = 'iframe'"
   ]
  },
  {
   "cell_type": "markdown",
   "id": "e217bfd9-44c3-48fe-b234-b60c64e7612c",
   "metadata": {},
   "source": [
    "# Solving Mechanical System Numerically, Phase Space for a mechanical system.\n",
    "\n",
    "In this notebook we will use the Lagrangian method to find the equation of motion for the pendulum and for the bead on a loop, and then solve the equation of motion numerically. \n",
    "\n",
    "In the last step we make a contour plot of the energy of the system and show how the lines of constant energy are the same as the phase space paths taken by the system. \n",
    "\n",
    "## Pendulum\n",
    "\n",
    "The useful coordinate is $\\theta$. With the potential reference $U=0$ when the pendulum is straight down, the potential of the pendulum becomes:\n",
    "$$U_{pendulum}(\\theta) = m g l (1 - \\cos \\theta) $$\n",
    "\n",
    "The kinetic energy is $T = \\frac{1}{2} m l^2 \\dot \\theta^2$. This gives a Lagrangian:\n",
    "$$\\mathcal{L} = T -U =  \\frac{1}{2} m l^2 \\dot \\theta^2 - m g l (1 - \\cos \\theta)$$\n",
    "and the Lagrange equations become:\n",
    "$$\n",
    "\\begin{array}{lcl}\n",
    "p_{\\theta} &=& \\frac{\\partial}{\\partial \\dot \\theta} L = m l^2 \\dot \\theta \\\\\n",
    "\\dot p_{\\theta} &=& \\frac{\\partial}{\\partial \\theta} L = -m g l \\sin \\theta\n",
    "\\end{array}\n",
    "$$\n",
    "So for the equation of motion we have:\n",
    "$$\n",
    "\\frac{d}{dt} p_{\\theta} - \\dot p_{\\theta} = 0 \\Rightarrow m l^2 \\ddot \\theta + m g l \\sin \\theta = 0\n",
    "$$\n",
    "Which leads to the familiar equation:\n",
    "$$\n",
    "\\ddot \\theta + \\frac{g}{l} \\sin \\theta = 0\n",
    "$$\n",
    "To solve this numerically, we split this into two first order coupled differential equations:\n",
    "$$\n",
    "\\begin{array}{lcl}\n",
    "\\omega &=& \\frac{d}{dt}\\theta \\\\\n",
    "\\frac{d}{d t} \\omega &=& -\\frac{g}{l} \\sin \\theta\n",
    "\\end{array}\n",
    "$$\n",
    "This can now be integrated with `odeint`."
   ]
  },
  {
   "cell_type": "markdown",
   "id": "bb9c3678-994f-48ef-99bb-049b4f9846e3",
   "metadata": {},
   "source": [
    "## Bead on a Loop\n",
    "\n",
    "In the stationary frame, the bead on a loop with radius $R$ has the same potential as the pendulum with $l=R$. You can look at the bead on a loop problem as a 3-dimensional pendulum, with a mass on a weightless rod, that is forced to rotate around $\\phi$ at a rate of $\\omega_0$. That way we still only have $\\theta$ as our free parameter. The potential thus remains:\n",
    "\n",
    "$$U_{pendulum}(\\theta) = m g R (1-\\cos \\theta)$$\n",
    "\n",
    "The kinetic energy term now needs to account for the rotation as well as the swinging. We can then replace $\\dot \\phi = \\omega_0$, the forced rotation, giving:\n",
    "\n",
    "$$T = \\frac{1}{2} m R^2 (\\dot \\theta^2 + \\omega_0^2 \\sin^2 \\theta) $$\n",
    "\n",
    "The Lagrangian is then:\n",
    "\n",
    "$$\\mathcal{L} = T -U =  \\frac{1}{2} m R^2 \\dot \\theta^2 + \\frac{1}{2} m R^2 \\omega_0^2 \\sin^2 \\theta  - m g R (1 - \\cos \\theta)$$\n",
    "\n",
    "If we now look at the system from the rotating frame, being only concerned about the movement of $\\theta$, and\n",
    "defining $\\gamma = \\sqrt{g/(\\omega_0^2 R)}$ we can write this as an effective potential:\n",
    "\n",
    "$$\n",
    "\\begin{array}{lcl}\n",
    "U_{bead} &=&  -\\frac{1}{2} m R^2 \\omega_0^2 \\sin^2 \\theta + m g R (1 - cos \\theta)) \\Rightarrow  \\\\\n",
    "U_{bead} &=& m R^2 \\omega_0^2 ( -\\frac{1}{2} \\sin^2 \\theta + \\gamma^2 (1 - cos \\theta)) \n",
    "\\end{array}\n",
    "$$\n",
    "\n",
    "The Lagrange equations now become:\n",
    "$$\n",
    "\\begin{array}{lcl}\n",
    "p_{\\theta} &=& \\frac{\\partial}{\\partial \\dot \\theta} L = m R^2 \\dot \\theta \\\\\n",
    "\\dot p_{\\theta} &=& \\frac{\\partial}{\\partial \\theta} L = m R^2 \\omega_0^2\\sin \\theta \\cos \\theta - m g R \\sin \\theta\n",
    "\\end{array}\n",
    "$$\n",
    "So for the equation of motion we have:\n",
    "$$\n",
    "\\frac{d}{dt} p_{\\theta} - \\dot p_{\\theta} = 0 \\Rightarrow m R^2 \\ddot \\theta - m R^2 \\omega_0^2\\sin \\theta \\cos \\theta + m g R \\sin \\theta = 0\n",
    "$$\n",
    "Which leads to the equation of motion:\n",
    "$$\n",
    "\\begin{array}{lcl}\n",
    "\\ddot \\theta &=& \\omega_0^2\\sin \\theta \\cos \\theta - \\frac{g}{R} \\sin \\theta \\Rightarrow \\\\\n",
    "\\ddot \\theta &=& \\omega_0^2\\sin \\theta ( \\cos \\theta - \\gamma^2 \\sin \\theta) \n",
    "\\end{array}\n",
    "$$\n",
    "To solve this numerically, we split this into two first order coupled differential equations:\n",
    "$$\n",
    "\\begin{array}{lcl}\n",
    "\\omega &=& \\frac{d}{dt}\\theta \\\\\n",
    "\\frac{d}{d t} \\omega &=& \\omega_0^2\\sin \\theta ( \\cos \\theta - \\gamma^2 \\sin \\theta) \\\\\n",
    "\\frac{d}{d t} \\omega &=& \\omega_0^2\\sin \\theta \\cos \\theta - \\frac{g}{R} \\sin \\theta \n",
    "\\end{array}\n",
    "$$\n",
    "The last version allows for $\\omega_0 = 0$ more clearly, which then should give the same solutions as the normal pendulum.\n",
    "This result can now again be integrated with `odeint`."
   ]
  },
  {
   "cell_type": "code",
   "execution_count": 2,
   "id": "07f6ca27-77d9-4a37-8c30-e34a927c7860",
   "metadata": {
    "tags": []
   },
   "outputs": [],
   "source": [
    "def U_pendulum(theta, param):\n",
    "    \"\"\"Potential function for the pendulum, parameters are (m, l, g)\"\"\"\n",
    "    m, l, g = param\n",
    "    return m*g*l*(1 - np.cos(theta))\n",
    "\n",
    "def U_bead(theta, param):\n",
    "    \"\"\"Potential function for the bead on a loop, parameters are (m,R,omega0, g)\"\"\"\n",
    "    m, R, omega0, g = param\n",
    "    return -1/2*m*R**2*omega0**2*np.sin(theta)**2 + m*g*R*(1-np.cos(theta))\n",
    "\n",
    "def pendulum(y,t,param):\n",
    "    \"\"\"Derivatives for the pendulum, parameters are (m, l, g)\"\"\"\n",
    "    theta,omega = y # Unpack the input for easy of use.\n",
    "    m, L,g = param  # Note that m is not needed here, but this way param is the same as for U_pendulum.\n",
    "    d_theta = omega      # Equation one\n",
    "    d_omega = -g/L * np.sin(theta) # Equation 2.\n",
    "    return([d_theta,d_omega]) # Return both functions as a list\n",
    "\n",
    "def bead(y,t,param):\n",
    "    \"\"\"Derivatives for the bead on a loop, parameters are (m, R, omega0, g)\"\"\"\n",
    "    theta,omega = y # Unpack the input for easy of use.\n",
    "    m, R, omega0, g = param\n",
    "    d_theta = omega      # Equation one\n",
    "    d_omega = omega0**2*np.sin(theta)*np.cos(theta)-g/R * np.sin(theta) # Equation 2.\n",
    "    return([d_theta,d_omega]) # Return both functions as a list"
   ]
  },
  {
   "cell_type": "code",
   "execution_count": 3,
   "id": "22b870be-1b00-4fc9-ad5b-acad791b38c6",
   "metadata": {},
   "outputs": [],
   "source": [
    "# Define the parameters\n",
    "m = 1\n",
    "l = 1\n",
    "g = 1\n",
    "R = 1\n",
    "omega0 = 1.5   # since omega = d theta/ d t\n",
    "param_pendulum = (m, l, g)\n",
    "param_bead = (m, R, omega0, g)"
   ]
  },
  {
   "cell_type": "code",
   "execution_count": 4,
   "id": "6b2c8e26-71e8-4d4a-818a-a72440d2e7cc",
   "metadata": {
    "tags": []
   },
   "outputs": [
    {
     "data": {
      "text/html": [
       "<iframe\n",
       "    scrolling=\"no\"\n",
       "    width=\"1020px\"\n",
       "    height=\"820\"\n",
       "    src=\"iframe_figures/figure_4.html\"\n",
       "    frameborder=\"0\"\n",
       "    allowfullscreen\n",
       "></iframe>\n"
      ]
     },
     "metadata": {},
     "output_type": "display_data"
    }
   ],
   "source": [
    "# Draw the potentials for different values of omega0, where omega0=0 gives the pendulum.\n",
    "theta_v =  np.linspace(-np.pi, np.pi, 1000)\n",
    "\n",
    "fig = make_subplots()  # (specs=[[{\"secondary_y\": True}]])\n",
    "fig.update_layout(width=1000, height=800,\n",
    "                  title=go.layout.Title(text=f\"Bead on Loop Potentials\", x=0.5, xanchor=\"center\"),\n",
    "                  titlefont=dict(size=22),\n",
    "                 xaxis_title=r\"$\\theta$\", yaxis_title=r\"$U$\")\n",
    "\n",
    "fig.add_trace(go.Scatter(x=theta_v, y=U_pendulum(theta_v,param_pendulum), name=\"pendulum\", line=dict(color=\"red\", width=2)))\n",
    "\n",
    "colors = px.colors.sequential.Bluered_r\n",
    "omega0_list = np.linspace(0.,2.,10)\n",
    "for i in range(len(omega0_list)):\n",
    "    param_bead = (m, R, omega0_list[i], g)\n",
    "    color=px.colors.find_intermediate_color(colors[0],colors[1],i/len(omega0_list),'rgb')\n",
    "    fig.add_trace(go.Scatter(x=theta_v, y=U_bead(theta_v,param_bead), name=r\"$\\mathrm{Bead\\ }\\omega_0=\"+f\"{omega0_list[i]:4.2f}$\", line=dict(color=color, width=1)))\n",
    "\n",
    "fig.write_image(\"Phys615_HW8_figure1.pdf\")   \n",
    "fig.show()\n"
   ]
  },
  {
   "cell_type": "code",
   "execution_count": 5,
   "id": "e7855133-a73a-41f8-b23f-d57c2cde1315",
   "metadata": {
    "tags": []
   },
   "outputs": [],
   "source": [
    "# Now ask SciPy to solve the diffeq for us.\n",
    "# Setup the time domain for the solution. \n",
    "t_end = 4*np.pi # This is a guess, 2 pi is not enough for omega0=2\n",
    "N     = 128 \n",
    "t = np.linspace(0.,t_end,N)\n",
    "\n",
    "solutions = []\n",
    "y0=[0, 1.]\n",
    "for i in range(len(omega0_list)):\n",
    "    param_bead = (m, R, omega0_list[i], g) \n",
    "    Energy = 0.5*param_bead[0]*y0[1]**2 + U_bead(y0[0], param_bead)\n",
    "    solution = integrate.odeint(bead,y0,t,args=(param_bead,))\n",
    "    solutionT = np.transpose(solution)\n",
    "    solutions.append([solutionT,Energy])\n"
   ]
  },
  {
   "cell_type": "code",
   "execution_count": 6,
   "id": "64844b16-104f-4a66-adf7-397fd06627fd",
   "metadata": {
    "tags": []
   },
   "outputs": [
    {
     "data": {
      "text/html": [
       "<iframe\n",
       "    scrolling=\"no\"\n",
       "    width=\"1020px\"\n",
       "    height=\"820\"\n",
       "    src=\"iframe_figures/figure_6.html\"\n",
       "    frameborder=\"0\"\n",
       "    allowfullscreen\n",
       "></iframe>\n"
      ]
     },
     "metadata": {},
     "output_type": "display_data"
    }
   ],
   "source": [
    "fig = make_subplots()  # (specs=[[{\"secondary_y\": True}]])\n",
    "\n",
    "fig.update_layout(width=1000, height=800,\n",
    "                  title=go.layout.Title(text=\"Bead on a Loop Phase Space\", x=0.5, xanchor=\"center\"),\n",
    "                  titlefont=dict(size=22),\n",
    "                 xaxis_title=r\"theta\", yaxis_title=r\"omega\")\n",
    "\n",
    "sol = solutions[0][0]\n",
    "fig.add_trace(go.Scatter(x=sol[0], y=sol[1], name=\"pendulum\", line=dict(color=\"red\", width=3)))\n",
    "for i in range(1,len(omega0_list)):\n",
    "    sol = solutions[i][0]\n",
    "    E = solutions[i][1]\n",
    "    omega = omega0_list[i]\n",
    "    color=px.colors.find_intermediate_color(colors[0],colors[1],i/len(solutions),'rgb')\n",
    "    fig.add_trace(go.Scatter(x=sol[0], y=sol[1], name=rf\"$\\omega_0={omega:5.3f},\\ E={E}$\", line=dict(color=color, width=2)))\n",
    "fig.write_image(\"Phys615_HW8_figure2.pdf\")\n",
    "fig.show()"
   ]
  },
  {
   "cell_type": "markdown",
   "id": "4441a648-50f5-4d5b-b595-abcc733a2375",
   "metadata": {},
   "source": [
    "Figure 2: The phase space plot for a fixed energy of $E=0.5$ for different values of the hoop rotation speed $\\omega_0$"
   ]
  },
  {
   "cell_type": "code",
   "execution_count": 7,
   "id": "5b142145-f3d6-4869-af83-db0ea86ce5a3",
   "metadata": {
    "tags": []
   },
   "outputs": [],
   "source": [
    "omega0 = 2.\n",
    "theta = -np.pi\n",
    "param_bead = (m, R, omega0, g)\n",
    "\n",
    "# Find the angle where the energy is the minimum.\n",
    "x_tmp = np.linspace(-np.pi,0,10000)\n",
    "y_tmp = U_bead(x_tmp, param_bead)\n",
    "arg_min = np.argmin(y_tmp)\n",
    "Theta_e_min = x_tmp[arg_min]\n",
    "E_min = y_tmp[arg_min]\n",
    "\n",
    "# Inverse energy functions, but these are not needed.\n",
    "# U_inverse1 = interpolate.interp1d(y_tmp[0:arg_min],x_tmp[0:arg_min],kind=\"cubic\")\n",
    "# And from the minimum to the mid point, theta=0\n",
    "# U_inverse2 = interpolate.interp1d(y_tmp[arg_min:],x_tmp[arg_min:],kind=\"cubic\")\n",
    "\n",
    "energy_list = np.arange(E_min+0.05, 0, 0.3)\n",
    "energy_list = np.append(energy_list,np.arange(0.,2.,0.3))\n",
    "energy_list = np.append(energy_list,np.arange(U_bead(-np.pi, param_bead)+0.000000000000001,4., 0.3))\n",
    "y0_list = []\n",
    "\n",
    "# Compute the initial theta and omega for the energies.\n",
    "for i in range(len(energy_list)):\n",
    "    e = energy_list[i]\n",
    "    color = px.colors.find_intermediate_color(colors[0],colors[1],i/len(energy_list),'rgb')\n",
    "    if e == 0. or abs(e - U_bead(-np.pi, param_bead)) < 0.001:\n",
    "        color = '#00FF00'\n",
    "    if e < U_bead(-np.pi, param_bead):  # = 2*m*R*g:  # Top of loop energy\n",
    "        theta = Theta_e_min\n",
    "    else:\n",
    "        theta = -np.pi\n",
    "        \n",
    "    e_theta = U_bead(theta, param_bead)\n",
    "    e_omega = e - e_theta\n",
    "    omega = np.sqrt(2*e_omega/m)\n",
    "    \n",
    "    y0_list.append([theta, omega, e, True, color])\n",
    "    y0_list.append([-theta, -omega, e, False, color])\n",
    "        "
   ]
  },
  {
   "cell_type": "code",
   "execution_count": 8,
   "id": "52d292df-9716-4662-a8dd-926d3d813e70",
   "metadata": {
    "tags": []
   },
   "outputs": [],
   "source": [
    "N = 256\n",
    "solutions = []\n",
    "for i in range(len(y0_list)):\n",
    "    t_end = 2*np.pi \n",
    "    if y0_list[i][2] == 0.:\n",
    "        t_end = 5*np.pi\n",
    "    if abs(y0_list[i][2] - U_bead(-np.pi, param_bead)) < 0.001:\n",
    "        t_end = 5*np.pi\n",
    "    t = np.linspace(0.,t_end,N)\n",
    "    y0= [y0_list[i][0], y0_list[i][1]]\n",
    "    solution = integrate.odeint(bead,y0,t,args=(param_bead,)) # Returns the answer in an array of (x,y) pairs.\n",
    "    solutionT = np.transpose(solution)  # Turns the array into an array of two arrays, one for x one for y.\n",
    "    solutions.append(solutionT)"
   ]
  },
  {
   "cell_type": "code",
   "execution_count": 9,
   "id": "754d4cf0-ae9a-4a0a-bf10-bdad30d78533",
   "metadata": {
    "tags": []
   },
   "outputs": [
    {
     "data": {
      "text/html": [
       "<iframe\n",
       "    scrolling=\"no\"\n",
       "    width=\"1020px\"\n",
       "    height=\"820\"\n",
       "    src=\"iframe_figures/figure_9.html\"\n",
       "    frameborder=\"0\"\n",
       "    allowfullscreen\n",
       "></iframe>\n"
      ]
     },
     "metadata": {},
     "output_type": "display_data"
    }
   ],
   "source": [
    "fig = make_subplots()  # (specs=[[{\"secondary_y\": True}]])\n",
    "fig.update_layout(width=1000, height=800,\n",
    "                  title=go.layout.Title(text=r\"$\\mathrm{Bead\\ on\\ a\\ Loop\\ Phase\\ Space\\ }\\omega_0=\"+f\"{omega0}$\", x=0.5, xanchor=\"center\"),\n",
    "                  titlefont=dict(size=22),\n",
    "                 xaxis_title=r\"$\\theta$\", yaxis_title=r\"$\\omega$\")\n",
    "\n",
    "sol = solutions[0][0]\n",
    "#fig.add_trace(go.Scatter(x=sol[0], y=sol[1], name=\"pendulum\", line=dict(color=\"red\", width=3)))\n",
    "for i in range(0,len(y0_list)):\n",
    "    sol = solutions[i]\n",
    "    E = y0_list[i][2]\n",
    "    show_leg = y0_list[i][3]\n",
    "    color = y0_list[i][4]\n",
    "    \n",
    "    fig.add_trace(go.Scatter(x=sol[0], y=sol[1], name=rf\"$E={E:5.3f}$\", showlegend=show_leg, line=dict(color=color, width=2)))\n",
    "\n",
    "fig.update_xaxes(range=[-np.pi,np.pi])\n",
    "fig.write_image(\"Phys615_HW8_figure3.pdf\")\n",
    "fig.show()"
   ]
  },
  {
   "cell_type": "markdown",
   "id": "d1ec5c82-1377-41af-b662-1f1de2453d8a",
   "metadata": {},
   "source": [
    "Figure 3: The phase space for $\\omega_0 = 2$, $\\gamma=1/2$. The lines in green are the separatrix trajectories."
   ]
  },
  {
   "cell_type": "markdown",
   "id": "49aebfbf-0d75-4569-838b-98748ccc7b9f",
   "metadata": {},
   "source": [
    "# Making an Energy Countour plot.\n",
    "If you make a contour plot of the energy of the system versus $\\theta$ and $\\omega$, you end up with the constant energy lines as solutions to the differential equations. There is ***no need to solve the Lagrangian!***.\n",
    "\n",
    "Of course, if you then also want to highlight specific solutions, you will still need a particular fixed energy solutions where the Lagranguan was solved. Note here though that the solution for a Lagrangian system (or a Hamiltonian system), is actually not different from finding the path in the phase space that has a constant energy.\n",
    "\n",
    "Below I make the contour plot for the energy of the system, and overlay the separatrix curves from the solutions we found before."
   ]
  },
  {
   "cell_type": "code",
   "execution_count": 10,
   "id": "c8892b3f-00d6-4396-969f-c9d087f40ffc",
   "metadata": {},
   "outputs": [],
   "source": [
    "def E_bead(theta_omega, param):\n",
    "    \"\"\"Return the total energy for a shape=(2,0) theta and omega at parameters.\"\"\"\n",
    "    m, R, omega0, g = param\n",
    "    omega = theta_omega[1]\n",
    "    theta = theta_omega[0]\n",
    "    return 0.5*m*omega*omega + U_bead(theta, param)"
   ]
  },
  {
   "cell_type": "code",
   "execution_count": 11,
   "id": "1891e966-4f68-42f4-9936-6c0ca40f1d3e",
   "metadata": {},
   "outputs": [],
   "source": [
    "E_space_x = np.linspace(-np.pi,np.pi,256)\n",
    "E_space_y = np.linspace(-np.pi,np.pi,256)\n",
    "E_space = np.meshgrid( E_space_x, E_space_y )\n",
    "E_result = E_bead(E_space, param_bead)\n",
    "i_separatrix = []\n",
    "\n",
    "for i in range(len(y0_list)):  # Go through the list of solutions to find specific ones.\n",
    "    e = y0_list[i][2]\n",
    "    if e == 0.00:\n",
    "        i_separatrix.append(i)\n",
    "    elif abs(e - U_bead(-np.pi, param_bead)) < 0.001:\n",
    "        i_separatrix.append(i)\n",
    "    "
   ]
  },
  {
   "cell_type": "code",
   "execution_count": 12,
   "id": "d272aba6-58a1-4898-981d-a49f646d227f",
   "metadata": {},
   "outputs": [
    {
     "data": {
      "text/html": [
       "<iframe\n",
       "    scrolling=\"no\"\n",
       "    width=\"1020px\"\n",
       "    height=\"820\"\n",
       "    src=\"iframe_figures/figure_12.html\"\n",
       "    frameborder=\"0\"\n",
       "    allowfullscreen\n",
       "></iframe>\n"
      ]
     },
     "metadata": {},
     "output_type": "display_data"
    }
   ],
   "source": [
    "fig = make_subplots()  # (specs=[[{\"secondary_y\": True}]])\n",
    "fig.update_layout(width=1000, height=800,\n",
    "                  title=go.layout.Title(text=r\"$\\mathrm{Bead\\ on\\ a\\ Loop\\ Phase\\ Space\\ }\\omega_0=\"+f\"{omega0}$\", x=0.5, xanchor=\"center\"),\n",
    "                  titlefont=dict(size=22),\n",
    "                 xaxis_title=r\"$\\theta$\", yaxis_title=r\"$\\omega$\")\n",
    "\n",
    "fig.add_trace(go.Contour(z=E_result, x=E_space_x, y=E_space_y, ncontours=20, line_smoothing=0.85, #contours_coloring='heatmap',\n",
    "                        colorbar=dict(title='E', titleside='right',titlefont=dict(size=14,family='Times'))))\n",
    "\n",
    "for i in i_separatrix:\n",
    "    fig.add_trace(go.Scatter(x=solutions[i][0], y=solutions[i][1], name=rf\"$E=0.0$\", showlegend=show_leg, line=dict(color=\"#00FF50\", width=2)))\n",
    "    fig.add_trace(go.Scatter(x=solutions[i][0], y=solutions[i][1], name=rf\"$E=0.0$\", showlegend=show_leg, line=dict(color=\"#00FF50\", width=2)))\n",
    "\n",
    "fig.write_image(\"Phys615_HW8_figure4.pdf\")\n",
    "fig.show()"
   ]
  },
  {
   "cell_type": "markdown",
   "id": "6688991c-951d-436d-90a1-ee5a33939a9e",
   "metadata": {},
   "source": [
    "Figure 4: A contour plot of the energy of the bead on a loop system for $\\omega_0=2.$, with the separatrix curves highlighted in green."
   ]
  },
  {
   "cell_type": "code",
   "execution_count": null,
   "id": "f13908ce-b87f-4a6f-b50a-a53645d82d0a",
   "metadata": {},
   "outputs": [],
   "source": []
  }
 ],
 "metadata": {
  "kernelspec": {
   "display_name": "Python 3 (ipykernel)",
   "language": "python",
   "name": "python3"
  },
  "language_info": {
   "codemirror_mode": {
    "name": "ipython",
    "version": 3
   },
   "file_extension": ".py",
   "mimetype": "text/x-python",
   "name": "python",
   "nbconvert_exporter": "python",
   "pygments_lexer": "ipython3",
   "version": "3.10.10"
  }
 },
 "nbformat": 4,
 "nbformat_minor": 5
}
